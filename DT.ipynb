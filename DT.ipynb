{
  "nbformat": 4,
  "nbformat_minor": 0,
  "metadata": {
    "colab": {
      "name": "DT.ipynb",
      "provenance": [],
      "collapsed_sections": [],
      "mount_file_id": "1KB9h_WvXgdLpoS3I6hOH782scTv9sAqX",
      "authorship_tag": "ABX9TyPBShmBjDErIcKjhs18x+Ly",
      "include_colab_link": true
    },
    "kernelspec": {
      "name": "python3",
      "display_name": "Python 3"
    },
    "accelerator": "GPU"
  },
  "cells": [
    {
      "cell_type": "markdown",
      "metadata": {
        "id": "view-in-github",
        "colab_type": "text"
      },
      "source": [
        "<a href=\"https://colab.research.google.com/github/jae-yong-2/ML_STUDY/blob/main/DT.ipynb\" target=\"_parent\"><img src=\"https://colab.research.google.com/assets/colab-badge.svg\" alt=\"Open In Colab\"/></a>"
      ]
    },
    {
      "cell_type": "code",
      "metadata": {
        "id": "DhjExCMut9AB"
      },
      "source": [
        "from sklearn import tree\r\n",
        "from sklearn.model_selection import train_test_split\r\n",
        "from sklearn.preprocessing import StandardScaler\r\n",
        "import plotly.express as px\r\n",
        "import plotly.graph_objects as go\r\n",
        "import numpy as np\r\n",
        "import pandas as pd\r\n",
        "import os"
      ],
      "execution_count": 128,
      "outputs": []
    },
    {
      "cell_type": "code",
      "metadata": {
        "id": "vGs8KD8eDhhm"
      },
      "source": [
        "from sklearn.datasets import load_breast_cancer\r\n",
        "breast=load_breast_cancer()"
      ],
      "execution_count": 2,
      "outputs": []
    },
    {
      "cell_type": "code",
      "metadata": {
        "id": "_6WABHZ1aUWd"
      },
      "source": [
        "x_train, x_test , y_train, y_test = train_test_split(breast.data, breast.target, test_size=0.3,random_state=2021)"
      ],
      "execution_count": 3,
      "outputs": []
    },
    {
      "cell_type": "code",
      "metadata": {
        "id": "pujZemgzER6K"
      },
      "source": [
        "score=pd.DataFrame(index=['train','test'])\r\n",
        "pre=pd.DataFrame(index=['train','test'])"
      ],
      "execution_count": 4,
      "outputs": []
    },
    {
      "cell_type": "markdown",
      "metadata": {
        "id": "25-QeqU9QhIP"
      },
      "source": [
        "아무런 세팅없이 기본으로 하기"
      ]
    },
    {
      "cell_type": "code",
      "metadata": {
        "id": "YXWVXum4ZxIT"
      },
      "source": [
        "DT=tree.DecisionTreeClassifier()\r\n",
        "DT=DT.fit(x_train,y_train)"
      ],
      "execution_count": 5,
      "outputs": []
    },
    {
      "cell_type": "code",
      "metadata": {
        "colab": {
          "base_uri": "https://localhost:8080/"
        },
        "id": "LC8IngT2TNGM",
        "outputId": "ca879554-4c55-4c60-9eef-15838a8c6dd7"
      },
      "source": [
        "np.mean(DT.predict(x_train)==np.array(y_train))"
      ],
      "execution_count": 6,
      "outputs": [
        {
          "output_type": "execute_result",
          "data": {
            "text/plain": [
              "1.0"
            ]
          },
          "metadata": {
            "tags": []
          },
          "execution_count": 6
        }
      ]
    },
    {
      "cell_type": "code",
      "metadata": {
        "colab": {
          "base_uri": "https://localhost:8080/"
        },
        "id": "0hJq-TLWZebU",
        "outputId": "0b2cfdcc-bbd2-4974-91a8-cf127375da65"
      },
      "source": [
        "np.mean(DT.predict(x_test)==np.array(y_test))"
      ],
      "execution_count": 7,
      "outputs": [
        {
          "output_type": "execute_result",
          "data": {
            "text/plain": [
              "0.9590643274853801"
            ]
          },
          "metadata": {
            "tags": []
          },
          "execution_count": 7
        }
      ]
    },
    {
      "cell_type": "markdown",
      "metadata": {
        "id": "bO2-IxEaRa96"
      },
      "source": [
        "feature_importances_를 이용해서 해보기"
      ]
    },
    {
      "cell_type": "code",
      "metadata": {
        "colab": {
          "base_uri": "https://localhost:8080/",
          "height": 829
        },
        "id": "2XoMCWsIwW4h",
        "outputId": "d613e4d1-5cf8-4976-928e-8c89c5152224"
      },
      "source": [
        "tree.plot_tree(DT)"
      ],
      "execution_count": 180,
      "outputs": [
        {
          "output_type": "execute_result",
          "data": {
            "text/plain": [
              "[Text(203.7913043478261, 203.85, 'X[27] <= 0.142\\ngini = 0.467\\nsamples = 398\\nvalue = [148, 250]'),\n",
              " Text(131.0086956521739, 176.67000000000002, 'X[20] <= 17.72\\ngini = 0.135\\nsamples = 262\\nvalue = [19, 243]'),\n",
              " Text(72.78260869565217, 149.49, 'X[27] <= 0.111\\ngini = 0.062\\nsamples = 249\\nvalue = [8, 241]'),\n",
              " Text(29.11304347826087, 122.31, 'X[18] <= 0.009\\ngini = 0.018\\nsamples = 221\\nvalue = [2, 219]'),\n",
              " Text(14.556521739130435, 95.13, 'gini = 0.0\\nsamples = 1\\nvalue = [1, 0]'),\n",
              " Text(43.66956521739131, 95.13, 'X[21] <= 33.35\\ngini = 0.009\\nsamples = 220\\nvalue = [1, 219]'),\n",
              " Text(29.11304347826087, 67.94999999999999, 'gini = 0.0\\nsamples = 205\\nvalue = [0, 205]'),\n",
              " Text(58.22608695652174, 67.94999999999999, 'X[21] <= 33.56\\ngini = 0.124\\nsamples = 15\\nvalue = [1, 14]'),\n",
              " Text(43.66956521739131, 40.77000000000001, 'gini = 0.0\\nsamples = 1\\nvalue = [1, 0]'),\n",
              " Text(72.78260869565217, 40.77000000000001, 'gini = 0.0\\nsamples = 14\\nvalue = [0, 14]'),\n",
              " Text(116.45217391304348, 122.31, 'X[21] <= 33.23\\ngini = 0.337\\nsamples = 28\\nvalue = [6, 22]'),\n",
              " Text(101.89565217391305, 95.13, 'X[9] <= 0.057\\ngini = 0.211\\nsamples = 25\\nvalue = [3, 22]'),\n",
              " Text(87.33913043478262, 67.94999999999999, 'gini = 0.0\\nsamples = 2\\nvalue = [2, 0]'),\n",
              " Text(116.45217391304348, 67.94999999999999, 'X[13] <= 33.94\\ngini = 0.083\\nsamples = 23\\nvalue = [1, 22]'),\n",
              " Text(101.89565217391305, 40.77000000000001, 'gini = 0.0\\nsamples = 21\\nvalue = [0, 21]'),\n",
              " Text(131.0086956521739, 40.77000000000001, 'X[4] <= 0.112\\ngini = 0.5\\nsamples = 2\\nvalue = [1, 1]'),\n",
              " Text(116.45217391304348, 13.590000000000003, 'gini = 0.0\\nsamples = 1\\nvalue = [1, 0]'),\n",
              " Text(145.56521739130434, 13.590000000000003, 'gini = 0.0\\nsamples = 1\\nvalue = [0, 1]'),\n",
              " Text(131.0086956521739, 95.13, 'gini = 0.0\\nsamples = 3\\nvalue = [3, 0]'),\n",
              " Text(189.23478260869567, 149.49, 'X[26] <= 0.205\\ngini = 0.26\\nsamples = 13\\nvalue = [11, 2]'),\n",
              " Text(174.67826086956524, 122.31, 'X[5] <= 0.069\\ngini = 0.444\\nsamples = 3\\nvalue = [1, 2]'),\n",
              " Text(160.12173913043478, 95.13, 'gini = 0.0\\nsamples = 1\\nvalue = [1, 0]'),\n",
              " Text(189.23478260869567, 95.13, 'gini = 0.0\\nsamples = 2\\nvalue = [0, 2]'),\n",
              " Text(203.7913043478261, 122.31, 'gini = 0.0\\nsamples = 10\\nvalue = [10, 0]'),\n",
              " Text(276.5739130434783, 176.67000000000002, 'X[23] <= 724.7\\ngini = 0.098\\nsamples = 136\\nvalue = [129, 7]'),\n",
              " Text(247.4608695652174, 149.49, 'X[4] <= 0.108\\ngini = 0.496\\nsamples = 11\\nvalue = [5, 6]'),\n",
              " Text(232.90434782608696, 122.31, 'gini = 0.0\\nsamples = 6\\nvalue = [0, 6]'),\n",
              " Text(262.0173913043478, 122.31, 'gini = 0.0\\nsamples = 5\\nvalue = [5, 0]'),\n",
              " Text(305.68695652173915, 149.49, 'X[10] <= 0.241\\ngini = 0.016\\nsamples = 125\\nvalue = [124, 1]'),\n",
              " Text(291.1304347826087, 122.31, 'X[24] <= 0.141\\ngini = 0.375\\nsamples = 4\\nvalue = [3, 1]'),\n",
              " Text(276.5739130434783, 95.13, 'gini = 0.0\\nsamples = 1\\nvalue = [0, 1]'),\n",
              " Text(305.68695652173915, 95.13, 'gini = 0.0\\nsamples = 3\\nvalue = [3, 0]'),\n",
              " Text(320.24347826086955, 122.31, 'gini = 0.0\\nsamples = 121\\nvalue = [121, 0]')]"
            ]
          },
          "metadata": {
            "tags": []
          },
          "execution_count": 180
        },
        {
          "output_type": "display_data",
          "data": {
            "image/png": "[encoded data removed]",
            "text/plain": [
              "<Figure size 432x288 with 1 Axes>"
            ]
          },
          "metadata": {
            "tags": [],
            "needs_background": "light"
          }
        }
      ]
    },
    {
      "cell_type": "code",
      "metadata": {
        "id": "E0NZCTXhVsAk"
      },
      "source": [
        "importance=DT.feature_importances_.argsort()[::-1]"
      ],
      "execution_count": 85,
      "outputs": []
    },
    {
      "cell_type": "code",
      "metadata": {
        "colab": {
          "base_uri": "https://localhost:8080/"
        },
        "id": "WWEAXadbW9sl",
        "outputId": "2b7938b8-478c-403a-c825-e0317c7d0835"
      },
      "source": [
        "importance"
      ],
      "execution_count": 86,
      "outputs": [
        {
          "output_type": "execute_result",
          "data": {
            "text/plain": [
              "array([27, 20,  4, 21, 23,  9, 26, 18, 24,  5, 13, 10,  2,  1,  3,  6,  7,\n",
              "        8, 29, 14, 11, 12, 28, 15, 16, 17, 19, 22, 25,  0])"
            ]
          },
          "metadata": {
            "tags": []
          },
          "execution_count": 86
        }
      ]
    },
    {
      "cell_type": "code",
      "metadata": {
        "id": "6LgvXUGWZ480"
      },
      "source": [
        "X_train = pd.DataFrame(x_train).iloc[:,[importance[0],importance[1],importance[2]]]\r\n",
        "X_test = pd.DataFrame(x_test).iloc[:,[importance[0],importance[1],importance[2]]]"
      ],
      "execution_count": 155,
      "outputs": []
    },
    {
      "cell_type": "code",
      "metadata": {
        "id": "W7DTjH74NzAy"
      },
      "source": [
        "DT_3D=tree.DecisionTreeClassifier()"
      ],
      "execution_count": 156,
      "outputs": []
    },
    {
      "cell_type": "code",
      "metadata": {
        "colab": {
          "base_uri": "https://localhost:8080/"
        },
        "id": "SmxPsY_jPo2x",
        "outputId": "0b271e07-cecf-4c95-def1-e4963f6b62c1"
      },
      "source": [
        "DT_3D.fit(X_train,y_train)"
      ],
      "execution_count": 157,
      "outputs": [
        {
          "output_type": "execute_result",
          "data": {
            "text/plain": [
              "DecisionTreeClassifier(ccp_alpha=0.0, class_weight=None, criterion='gini',\n",
              "                       max_depth=None, max_features=None, max_leaf_nodes=None,\n",
              "                       min_impurity_decrease=0.0, min_impurity_split=None,\n",
              "                       min_samples_leaf=1, min_samples_split=2,\n",
              "                       min_weight_fraction_leaf=0.0, presort='deprecated',\n",
              "                       random_state=None, splitter='best')"
            ]
          },
          "metadata": {
            "tags": []
          },
          "execution_count": 157
        }
      ]
    },
    {
      "cell_type": "code",
      "metadata": {
        "colab": {
          "base_uri": "https://localhost:8080/"
        },
        "id": "uYUOJxgsP0ub",
        "outputId": "9cc71413-2c2a-478c-e0b3-c5168036a130"
      },
      "source": [
        "np.mean(DT_3D.predict(X_test)==y_test)"
      ],
      "execution_count": 158,
      "outputs": [
        {
          "output_type": "execute_result",
          "data": {
            "text/plain": [
              "0.9239766081871345"
            ]
          },
          "metadata": {
            "tags": []
          },
          "execution_count": 158
        }
      ]
    },
    {
      "cell_type": "code",
      "metadata": {
        "colab": {
          "base_uri": "https://localhost:8080/",
          "height": 1000
        },
        "id": "rsQ3jXJSv_KC",
        "outputId": "91f2b86a-c49e-4123-8b0d-5ab4868d888d"
      },
      "source": [
        "tree.plot_tree(DT_3D)"
      ],
      "execution_count": 179,
      "outputs": [
        {
          "output_type": "execute_result",
          "data": {
            "text/plain": [
              "[Text(220.26315789473685, 207.55636363636364, 'X[0] <= 0.142\\ngini = 0.467\\nsamples = 398\\nvalue = [148, 250]'),\n",
              " Text(158.58947368421053, 187.7890909090909, 'X[1] <= 17.72\\ngini = 0.135\\nsamples = 262\\nvalue = [19, 243]'),\n",
              " Text(88.10526315789474, 168.0218181818182, 'X[0] <= 0.111\\ngini = 0.062\\nsamples = 249\\nvalue = [8, 241]'),\n",
              " Text(35.242105263157896, 148.25454545454545, 'X[1] <= 14.485\\ngini = 0.018\\nsamples = 221\\nvalue = [2, 219]'),\n",
              " Text(17.621052631578948, 128.48727272727274, 'gini = 0.0\\nsamples = 172\\nvalue = [0, 172]'),\n",
              " Text(52.863157894736844, 128.48727272727274, 'X[1] <= 14.495\\ngini = 0.078\\nsamples = 49\\nvalue = [2, 47]'),\n",
              " Text(35.242105263157896, 108.72, 'gini = 0.0\\nsamples = 1\\nvalue = [1, 0]'),\n",
              " Text(70.48421052631579, 108.72, 'X[0] <= 0.031\\ngini = 0.041\\nsamples = 48\\nvalue = [1, 47]'),\n",
              " Text(52.863157894736844, 88.95272727272729, 'X[0] <= 0.026\\ngini = 0.5\\nsamples = 2\\nvalue = [1, 1]'),\n",
              " Text(35.242105263157896, 69.18545454545455, 'gini = 0.0\\nsamples = 1\\nvalue = [0, 1]'),\n",
              " Text(70.48421052631579, 69.18545454545455, 'gini = 0.0\\nsamples = 1\\nvalue = [1, 0]'),\n",
              " Text(88.10526315789474, 88.95272727272729, 'gini = 0.0\\nsamples = 46\\nvalue = [0, 46]'),\n",
              " Text(140.96842105263158, 148.25454545454545, 'X[1] <= 15.215\\ngini = 0.337\\nsamples = 28\\nvalue = [6, 22]'),\n",
              " Text(123.34736842105264, 128.48727272727274, 'gini = 0.0\\nsamples = 13\\nvalue = [0, 13]'),\n",
              " Text(158.58947368421053, 128.48727272727274, 'X[1] <= 17.085\\ngini = 0.48\\nsamples = 15\\nvalue = [6, 9]'),\n",
              " Text(140.96842105263158, 108.72, 'X[0] <= 0.124\\ngini = 0.496\\nsamples = 11\\nvalue = [6, 5]'),\n",
              " Text(123.34736842105264, 88.95272727272729, 'gini = 0.0\\nsamples = 3\\nvalue = [3, 0]'),\n",
              " Text(158.58947368421053, 88.95272727272729, 'X[1] <= 15.365\\ngini = 0.469\\nsamples = 8\\nvalue = [3, 5]'),\n",
              " Text(140.96842105263158, 69.18545454545455, 'gini = 0.0\\nsamples = 1\\nvalue = [1, 0]'),\n",
              " Text(176.21052631578948, 69.18545454545455, 'X[1] <= 16.25\\ngini = 0.408\\nsamples = 7\\nvalue = [2, 5]'),\n",
              " Text(158.58947368421053, 49.418181818181836, 'gini = 0.0\\nsamples = 2\\nvalue = [0, 2]'),\n",
              " Text(193.83157894736843, 49.418181818181836, 'X[0] <= 0.132\\ngini = 0.48\\nsamples = 5\\nvalue = [2, 3]'),\n",
              " Text(176.21052631578948, 29.650909090909096, 'gini = 0.0\\nsamples = 2\\nvalue = [0, 2]'),\n",
              " Text(211.45263157894738, 29.650909090909096, 'X[0] <= 0.139\\ngini = 0.444\\nsamples = 3\\nvalue = [2, 1]'),\n",
              " Text(193.83157894736843, 9.883636363636384, 'gini = 0.0\\nsamples = 2\\nvalue = [2, 0]'),\n",
              " Text(229.07368421052632, 9.883636363636384, 'gini = 0.0\\nsamples = 1\\nvalue = [0, 1]'),\n",
              " Text(176.21052631578948, 108.72, 'gini = 0.0\\nsamples = 4\\nvalue = [0, 4]'),\n",
              " Text(229.07368421052632, 168.0218181818182, 'X[0] <= 0.092\\ngini = 0.26\\nsamples = 13\\nvalue = [11, 2]'),\n",
              " Text(211.45263157894738, 148.25454545454545, 'X[1] <= 18.7\\ngini = 0.444\\nsamples = 3\\nvalue = [1, 2]'),\n",
              " Text(193.83157894736843, 128.48727272727274, 'gini = 0.0\\nsamples = 2\\nvalue = [0, 2]'),\n",
              " Text(229.07368421052632, 128.48727272727274, 'gini = 0.0\\nsamples = 1\\nvalue = [1, 0]'),\n",
              " Text(246.69473684210527, 148.25454545454545, 'gini = 0.0\\nsamples = 10\\nvalue = [10, 0]'),\n",
              " Text(281.93684210526317, 187.7890909090909, 'X[1] <= 12.6\\ngini = 0.098\\nsamples = 136\\nvalue = [129, 7]'),\n",
              " Text(264.3157894736842, 168.0218181818182, 'gini = 0.0\\nsamples = 3\\nvalue = [0, 3]'),\n",
              " Text(299.5578947368421, 168.0218181818182, 'X[1] <= 15.93\\ngini = 0.058\\nsamples = 133\\nvalue = [129, 4]'),\n",
              " Text(281.93684210526317, 148.25454545454545, 'X[0] <= 0.172\\ngini = 0.408\\nsamples = 14\\nvalue = [10, 4]'),\n",
              " Text(264.3157894736842, 128.48727272727274, 'X[0] <= 0.148\\ngini = 0.444\\nsamples = 6\\nvalue = [2, 4]'),\n",
              " Text(246.69473684210527, 108.72, 'X[2] <= 0.105\\ngini = 0.444\\nsamples = 3\\nvalue = [2, 1]'),\n",
              " Text(229.07368421052632, 88.95272727272729, 'gini = 0.0\\nsamples = 1\\nvalue = [1, 0]'),\n",
              " Text(264.3157894736842, 88.95272727272729, 'X[2] <= 0.114\\ngini = 0.5\\nsamples = 2\\nvalue = [1, 1]'),\n",
              " Text(246.69473684210527, 69.18545454545455, 'gini = 0.0\\nsamples = 1\\nvalue = [0, 1]'),\n",
              " Text(281.93684210526317, 69.18545454545455, 'gini = 0.0\\nsamples = 1\\nvalue = [1, 0]'),\n",
              " Text(281.93684210526317, 108.72, 'gini = 0.0\\nsamples = 3\\nvalue = [0, 3]'),\n",
              " Text(299.5578947368421, 128.48727272727274, 'gini = 0.0\\nsamples = 8\\nvalue = [8, 0]'),\n",
              " Text(317.17894736842106, 148.25454545454545, 'gini = 0.0\\nsamples = 119\\nvalue = [119, 0]')]"
            ]
          },
          "metadata": {
            "tags": []
          },
          "execution_count": 179
        },
        {
          "output_type": "display_data",
          "data": {
            "image/png": "[encoded data removed]",
            "text/plain": [
              "<Figure size 432x288 with 1 Axes>"
            ]
          },
          "metadata": {
            "tags": [],
            "needs_background": "light"
          }
        }
      ]
    },
    {
      "cell_type": "code",
      "metadata": {
        "id": "qa-w-yiEaItJ"
      },
      "source": [
        "target_0_X=X_train.iloc[y_train==0,:]\r\n",
        "target_1_X=X_train.iloc[y_train==1,:]"
      ],
      "execution_count": 159,
      "outputs": []
    },
    {
      "cell_type": "code",
      "metadata": {
        "colab": {
          "base_uri": "https://localhost:8080/",
          "height": 402
        },
        "id": "K1ZvGvQNjwKf",
        "outputId": "b1c850c7-6194-4751-dd7f-f0fcdcfbec0d"
      },
      "source": [
        "target_0_X.iloc[:,]"
      ],
      "execution_count": 161,
      "outputs": [
        {
          "output_type": "execute_result",
          "data": {
            "text/html": [
              "<div>\n",
              "<style scoped>\n",
              "    .dataframe tbody tr th:only-of-type {\n",
              "        vertical-align: middle;\n",
              "    }\n",
              "\n",
              "    .dataframe tbody tr th {\n",
              "        vertical-align: top;\n",
              "    }\n",
              "\n",
              "    .dataframe thead th {\n",
              "        text-align: right;\n",
              "    }\n",
              "</style>\n",
              "<table border=\"1\" class=\"dataframe\">\n",
              "  <thead>\n",
              "    <tr style=\"text-align: right;\">\n",
              "      <th></th>\n",
              "      <th>27</th>\n",
              "      <th>20</th>\n",
              "      <th>4</th>\n",
              "    </tr>\n",
              "  </thead>\n",
              "  <tbody>\n",
              "    <tr>\n",
              "      <th>1</th>\n",
              "      <td>0.22160</td>\n",
              "      <td>25.45</td>\n",
              "      <td>0.11100</td>\n",
              "    </tr>\n",
              "    <tr>\n",
              "      <th>5</th>\n",
              "      <td>0.21340</td>\n",
              "      <td>23.17</td>\n",
              "      <td>0.11200</td>\n",
              "    </tr>\n",
              "    <tr>\n",
              "      <th>7</th>\n",
              "      <td>0.14240</td>\n",
              "      <td>12.84</td>\n",
              "      <td>0.12270</td>\n",
              "    </tr>\n",
              "    <tr>\n",
              "      <th>10</th>\n",
              "      <td>0.09975</td>\n",
              "      <td>19.19</td>\n",
              "      <td>0.08206</td>\n",
              "    </tr>\n",
              "    <tr>\n",
              "      <th>12</th>\n",
              "      <td>0.26880</td>\n",
              "      <td>33.12</td>\n",
              "      <td>0.10940</td>\n",
              "    </tr>\n",
              "    <tr>\n",
              "      <th>...</th>\n",
              "      <td>...</td>\n",
              "      <td>...</td>\n",
              "      <td>...</td>\n",
              "    </tr>\n",
              "    <tr>\n",
              "      <th>384</th>\n",
              "      <td>0.17890</td>\n",
              "      <td>24.86</td>\n",
              "      <td>0.09009</td>\n",
              "    </tr>\n",
              "    <tr>\n",
              "      <th>386</th>\n",
              "      <td>0.17080</td>\n",
              "      <td>23.36</td>\n",
              "      <td>0.08523</td>\n",
              "    </tr>\n",
              "    <tr>\n",
              "      <th>391</th>\n",
              "      <td>0.16130</td>\n",
              "      <td>23.23</td>\n",
              "      <td>0.09156</td>\n",
              "    </tr>\n",
              "    <tr>\n",
              "      <th>393</th>\n",
              "      <td>0.16070</td>\n",
              "      <td>16.23</td>\n",
              "      <td>0.09714</td>\n",
              "    </tr>\n",
              "    <tr>\n",
              "      <th>395</th>\n",
              "      <td>0.18340</td>\n",
              "      <td>17.87</td>\n",
              "      <td>0.11370</td>\n",
              "    </tr>\n",
              "  </tbody>\n",
              "</table>\n",
              "<p>148 rows × 3 columns</p>\n",
              "</div>"
            ],
            "text/plain": [
              "          27     20       4 \n",
              "1    0.22160  25.45  0.11100\n",
              "5    0.21340  23.17  0.11200\n",
              "7    0.14240  12.84  0.12270\n",
              "10   0.09975  19.19  0.08206\n",
              "12   0.26880  33.12  0.10940\n",
              "..       ...    ...      ...\n",
              "384  0.17890  24.86  0.09009\n",
              "386  0.17080  23.36  0.08523\n",
              "391  0.16130  23.23  0.09156\n",
              "393  0.16070  16.23  0.09714\n",
              "395  0.18340  17.87  0.11370\n",
              "\n",
              "[148 rows x 3 columns]"
            ]
          },
          "metadata": {
            "tags": []
          },
          "execution_count": 161
        }
      ]
    },
    {
      "cell_type": "code",
      "metadata": {
        "colab": {
          "base_uri": "https://localhost:8080/",
          "height": 542
        },
        "id": "zdo1zOgiRwiq",
        "outputId": "b1537d57-db99-47f2-9c89-a288a3218779"
      },
      "source": [
        "import plotly.graph_objects as go\r\n",
        "fig = go.Figure(data=[\r\n",
        "                      \r\n",
        "                go.Scatter3d(\r\n",
        "                x=target_0_X.iloc[:,0],\r\n",
        "                y=target_0_X.iloc[:,1],\r\n",
        "                z=target_0_X.iloc[:,2],\r\n",
        "                mode='markers',\r\n",
        "                marker=dict(size=1,color='blue')),\r\n",
        "\r\n",
        "                go.Scatter3d(\r\n",
        "                x=target_1_X.iloc[:,0],\r\n",
        "                y=target_1_X.iloc[:,1],\r\n",
        "                z=target_1_X.iloc[:,2],\r\n",
        "                mode='markers',\r\n",
        "                marker=dict(size=1,color='red')),\r\n",
        "])\r\n",
        "fig.show()"
      ],
      "execution_count": 176,
      "outputs": [
        {
          "output_type": "display_data",
          "data": {
            "text/html": [
              "<html>\n",
              "<head><meta charset=\"utf-8\" /></head>\n",
              "<body>\n",
              "    <div>\n",
              "            <script src=\"https://cdnjs.cloudflare.com/ajax/libs/mathjax/2.7.5/MathJax.js?config=TeX-AMS-MML_SVG\"></script><script type=\"text/javascript\">if (window.MathJax) {MathJax.Hub.Config({SVG: {font: \"STIX-Web\"}});}</script>\n",
              "                <script type=\"text/javascript\">window.PlotlyConfig = {MathJaxConfig: 'local'};</script>\n",
              "        <script src=\"https://cdn.plot.ly/plotly-latest.min.js\"></script>    \n",
              "            <div id=\"a80047cf-e815-48a0-8b39-02fe9dd71f9d\" class=\"plotly-graph-div\" style=\"height:525px; width:100%;\"></div>\n",
              "            <script type=\"text/javascript\">\n",
              "                \n",
              "                    window.PLOTLYENV=window.PLOTLYENV || {};\n",
              "                    \n",
              "                if (document.getElementById(\"a80047cf-e815-48a0-8b39-02fe9dd71f9d\")) {\n",
              "                    Plotly.newPlot(\n",
              "                        'a80047cf-e815-48a0-8b39-02fe9dd71f9d',\n",
              "                        [{\"marker\": {\"color\": \"blue\", \"size\": 1}, \"mode\": \"markers\", \"type\": \"scatter3d\", \"x\": [0.2216, 0.2134, 0.1424, 0.09975, 0.2688, 0.2115, 0.2148, 0.2089, 0.1613, 0.2507, 0.1526, 0.1712, 0.2252, 0.2255, 0.2422, 0.1772, 0.1573, 0.2393, 0.1697, 0.1732, 0.1535, 0.2102, 0.1466, 0.1595, 0.1932, 0.1555, 0.1362, 0.1984, 0.2208, 0.1515, 0.2112, 0.2346, 0.1099, 0.1614, 0.2009, 0.02899, 0.2493, 0.153, 0.1625, 0.1425, 0.2733, 0.1294, 0.1841, 0.1785, 0.2066, 0.1899, 0.1489, 0.1964, 0.2701, 0.2247, 0.228, 0.152, 0.1218, 0.116, 0.1514, 0.1047, 0.2014, 0.149, 0.1252, 0.1374, 0.1563, 0.2388, 0.2027, 0.2105, 0.206, 0.1776, 0.1872, 0.1966, 0.1492, 0.2091, 0.1642, 0.1476, 0.182, 0.1999, 0.2542, 0.2248, 0.1225, 0.2378, 0.1732, 0.1325, 0.1827, 0.1609, 0.1112, 0.1625, 0.1974, 0.1571, 0.1986, 0.1857, 0.1977, 0.1546, 0.2625, 0.1329, 0.1565, 0.09181, 0.1981, 0.1827, 0.1848, 0.1184, 0.1459, 0.1673, 0.2013, 0.1767, 0.2475, 0.182, 0.2264, 0.1841, 0.181, 0.2475, 0.2543, 0.1739, 0.1521, 0.1564, 0.2685, 0.2258, 0.1456, 0.2088, 0.197, 0.2051, 0.1479, 0.1785, 0.09331, 0.2903, 0.2432, 0.2163, 0.1674, 0.1956, 0.1775, 0.1865, 0.08737, 0.1185, 0.2593, 0.2113, 0.1556, 0.2073, 0.2867, 0.1765, 0.255, 0.2356, 0.265, 0.1741, 0.2524, 0.2152, 0.2229, 0.1789, 0.1708, 0.1613, 0.1607, 0.1834], \"y\": [25.45, 23.17, 12.84, 19.19, 33.12, 18.23, 24.3, 30.67, 23.73, 25.28, 18.51, 17.46, 23.79, 22.75, 26.23, 15.74, 24.22, 18.07, 24.33, 22.63, 20.38, 22.39, 21.44, 28.11, 22.88, 22.96, 15.29, 21.58, 15.03, 20.47, 25.37, 28.01, 18.07, 17.31, 29.17, 14.99, 24.09, 18.1, 27.9, 23.06, 25.12, 19.96, 28.19, 17.67, 22.51, 23.32, 21.53, 20.8, 17.62, 26.73, 25.68, 19.77, 22.32, 17.98, 19.26, 17.73, 18.49, 21.31, 17.77, 16.39, 24.47, 27.32, 18.81, 25.58, 23.96, 21.84, 23.72, 22.69, 17.38, 26.14, 22.93, 16.43, 25.73, 25.7, 24.29, 26.02, 16.21, 22.82, 18.55, 20.6, 18.79, 19.07, 15.93, 22.54, 21.08, 21.31, 16.31, 19.85, 15.2, 16.82, 36.04, 16.89, 16.33, 19.76, 18.76, 17.04, 23.15, 16.99, 15.65, 16.39, 19.2, 20.96, 29.92, 30.75, 30.79, 20.33, 20.42, 16.35, 19.59, 20.38, 16.01, 21.65, 25.3, 15.53, 20.01, 15.67, 21.53, 16.41, 19.56, 24.15, 14.49, 26.68, 27.66, 17.11, 22.25, 24.56, 17.39, 13.74, 19.18, 20.58, 31.01, 23.86, 17.06, 20.96, 30.0, 24.31, 22.25, 17.52, 25.74, 15.47, 13.24, 24.19, 17.73, 24.86, 23.36, 23.23, 16.23, 17.87], \"z\": [0.111, 0.112, 0.1227, 0.08206, 0.1094, 0.1039, 0.1046, 0.1069, 0.1037, 0.1062, 0.1024, 0.1139, 0.1037, 0.09797, 0.1167, 0.1075, 0.09078, 0.1073, 0.1, 0.1015, 0.08947, 0.1065, 0.1032, 0.1142, 0.09463, 0.09898, 0.1038, 0.09726, 0.1131, 0.1115, 0.09446, 0.08439, 0.1006, 0.1172, 0.09428, 0.09387, 0.09081, 0.09056, 0.0842, 0.0802, 0.1141, 0.08923, 0.09401, 0.1049, 0.09812, 0.1071, 0.1001, 0.123, 0.1054, 0.112, 0.09684, 0.09168, 0.08217, 0.09048, 0.1092, 0.1165, 0.1063, 0.0944, 0.08876, 0.1096, 0.09159, 0.09831, 0.1162, 0.1007, 0.1089, 0.09746, 0.102, 0.1001, 0.1041, 0.1053, 0.09874, 0.092, 0.09383, 0.1035, 0.1099, 0.1447, 0.09444, 0.1099, 0.1066, 0.1148, 0.1257, 0.09867, 0.08162, 0.1003, 0.1036, 0.08588, 0.1398, 0.1008, 0.1088, 0.1109, 0.1084, 0.09258, 0.09752, 0.07371, 0.09491, 0.106, 0.1064, 0.09488, 0.1034, 0.12, 0.1323, 0.0974, 0.103, 0.09384, 0.09342, 0.1215, 0.0971, 0.09947, 0.1141, 0.08331, 0.1162, 0.1027, 0.117, 0.1016, 0.09847, 0.1158, 0.09997, 0.1106, 0.1025, 0.09401, 0.09055, 0.1141, 0.1063, 0.1183, 0.1054, 0.09029, 0.1026, 0.1091, 0.07497, 0.08402, 0.09509, 0.1085, 0.1189, 0.117, 0.1063, 0.0915, 0.1186, 0.1048, 0.1178, 0.1278, 0.1216, 0.09905, 0.1335, 0.09009, 0.08523, 0.09156, 0.09714, 0.1137]}, {\"marker\": {\"color\": \"red\", \"size\": 1}, \"mode\": \"markers\", \"type\": \"scatter3d\", \"x\": [0.1218, 0.06335, 0.0268, 0.0, 0.08056, 0.02778, 0.08611, 0.02381, 0.06845, 0.08224, 0.0, 0.08436, 0.05921, 0.09532, 0.08288, 0.1147, 0.108, 0.04762, 0.1056, 0.01111, 0.08476, 0.06266, 0.08333, 0.09653, 0.05813, 0.05601, 0.06913, 0.03194, 0.1056, 0.08272, 0.08704, 0.1374, 0.03983, 0.08978, 0.07966, 0.08296, 0.1096, 0.06548, 0.09749, 0.06136, 0.02564, 0.09186, 0.05547, 0.06987, 0.08045, 0.09265, 0.1045, 0.09391, 0.06528, 0.07828, 0.05556, 0.1555, 0.06402, 0.06042, 0.1258, 0.03953, 0.1416, 0.06835, 0.09678, 0.09851, 0.1018, 0.06528, 0.05781, 0.0, 0.07632, 0.04773, 0.09861, 0.0585, 0.07926, 0.06544, 0.02832, 0.09744, 0.1069, 0.0, 0.05588, 0.08512, 0.1308, 0.04419, 0.175, 0.02022, 0.09594, 0.1053, 0.06499, 0.118, 0.07911, 0.08278, 0.06296, 0.1075, 0.1048, 0.06127, 0.06203, 0.07911, 0.05556, 0.0569, 0.0812, 0.08194, 0.04589, 0.1414, 0.07864, 0.1129, 0.05802, 0.09858, 0.1407, 0.05159, 0.02832, 0.07926, 0.08542, 0.06961, 0.05563, 0.02564, 0.08958, 0.1407, 0.09993, 0.01635, 0.09514, 0.07879, 0.08235, 0.02381, 0.1308, 0.0914, 0.01389, 0.0589, 0.0866, 0.1202, 0.1021, 0.1001, 0.1017, 0.05356, 0.1075, 0.0221, 0.04786, 0.07625, 0.08187, 0.03312, 0.0589, 0.1025, 0.0578, 0.06608, 0.06493, 0.06413, 0.06876, 0.1599, 0.06316, 0.0, 0.07958, 0.05741, 0.01111, 0.1105, 0.02222, 0.1505, 0.1155, 0.09608, 0.1251, 0.03612, 0.04306, 0.1251, 0.06696, 0.1092, 0.02083, 0.05614, 0.02796, 0.0656, 0.04603, 0.1357, 0.1708, 0.0377, 0.07116, 0.05882, 0.07909, 0.09722, 0.05506, 0.0829, 0.06005, 0.04052, 0.04195, 0.1012, 0.07393, 0.09123, 0.025, 0.02579, 0.07262, 0.03413, 0.07431, 0.0, 0.05882, 0.04815, 0.0991, 0.1108, 0.03571, 0.06222, 0.01852, 0.09783, 0.0737, 0.03264, 0.0909, 0.1145, 0.07222, 0.05093, 0.06343, 0.05, 0.02232, 0.08178, 0.07283, 0.08442, 0.1087, 0.04537, 0.04793, 0.09314, 0.08088, 0.105, 0.07453, 0.07431, 0.107, 0.08219, 0.025, 0.08946, 0.04866, 0.08211, 0.07763, 0.05052, 0.08308, 0.06736, 0.009259, 0.04074, 0.08388, 0.1284, 0.01042, 0.1288, 0.0497, 0.08485, 0.09127, 0.05556, 0.1105, 0.04815, 0.06384, 0.05087, 0.09077, 0.08698, 0.1318, 0.0815, 0.07174, 0.07431, 0.08411, 0.1453, 0.1571, 0.04766, 0.07955, 0.1423, 0.0812, 0.03846], \"y\": [12.58, 14.17, 13.19, 13.45, 15.34, 9.565, 11.92, 11.25, 15.05, 13.65, 9.077, 18.22, 14.34, 14.1, 12.77, 17.18, 14.44, 9.981, 12.45, 14.23, 12.32, 13.56, 10.83, 12.48, 16.46, 14.4, 13.3, 11.37, 13.74, 12.04, 15.85, 17.5, 13.35, 14.26, 11.94, 13.74, 15.05, 13.76, 10.76, 11.16, 9.845, 16.76, 13.6, 14.73, 14.45, 13.37, 14.9, 13.5, 11.24, 16.46, 13.75, 12.36, 12.78, 13.15, 14.19, 12.36, 13.36, 13.12, 15.14, 14.34, 16.76, 11.06, 14.69, 10.17, 13.67, 13.75, 11.62, 13.72, 14.24, 12.97, 12.9, 11.28, 15.8, 9.262, 10.42, 9.473, 16.76, 9.507, 10.31, 11.98, 16.3, 14.06, 11.16, 14.2, 15.1, 13.01, 12.37, 10.6, 15.3, 13.11, 12.36, 14.92, 15.11, 13.34, 13.35, 13.58, 11.21, 16.67, 13.06, 17.71, 14.67, 14.42, 15.14, 10.75, 11.93, 11.88, 12.47, 12.33, 15.4, 9.965, 12.82, 14.38, 14.98, 13.72, 11.69, 9.092, 13.88, 10.92, 12.98, 13.13, 9.699, 15.53, 14.11, 12.98, 15.77, 16.36, 16.01, 13.45, 11.92, 14.97, 9.733, 13.46, 13.34, 15.27, 15.63, 10.28, 13.9, 14.13, 13.89, 12.02, 13.8, 15.85, 12.84, 11.54, 14.37, 12.61, 12.2, 15.48, 10.94, 15.3, 14.04, 12.65, 17.27, 13.82, 11.35, 16.97, 11.38, 12.57, 12.08, 14.2, 13.07, 11.14, 11.6, 15.44, 15.53, 10.85, 13.09, 13.46, 13.32, 14.77, 11.99, 13.31, 14.35, 13.2, 14.5, 14.48, 13.45, 18.13, 11.15, 11.11, 10.57, 11.95, 12.4, 9.456, 12.83, 13.35, 11.26, 16.46, 11.48, 15.14, 12.85, 14.09, 12.88, 13.03, 14.98, 10.06, 10.51, 13.64, 13.5, 8.678, 10.65, 16.2, 14.5, 13.29, 16.77, 15.51, 13.18, 11.86, 13.16, 9.628, 15.66, 12.41, 13.61, 15.75, 14.41, 12.4, 10.67, 13.59, 15.05, 12.02, 16.43, 11.48, 14.0, 10.88, 13.86, 15.11, 11.87, 15.11, 13.94, 16.11, 10.84, 12.68, 12.64, 12.44, 14.45, 10.01, 14.96, 13.05, 12.84, 16.41, 15.35, 13.34, 13.57, 14.8, 11.02, 12.81, 15.61, 16.11, 10.75, 9.414], \"z\": [0.09592, 0.08192, 0.07372, 0.07699, 0.09646, 0.1243, 0.1164, 0.09434, 0.09578, 0.08785, 0.08098, 0.07445, 0.08369, 0.08685, 0.08508, 0.08098, 0.09586, 0.08293, 0.08099, 0.0806, 0.09639, 0.1029, 0.08877, 0.09261, 0.07618, 0.07551, 0.08871, 0.08518, 0.1005, 0.08365, 0.09277, 0.09462, 0.08313, 0.07115, 0.1007, 0.08044, 0.1218, 0.1031, 0.1005, 0.1122, 0.0924, 0.09832, 0.08752, 0.07937, 0.1125, 0.0876, 0.07466, 0.1028, 0.09492, 0.08641, 0.08673, 0.08915, 0.1092, 0.1152, 0.1082, 0.07515, 0.1175, 0.09357, 0.08445, 0.08583, 0.09883, 0.1068, 0.07517, 0.1039, 0.09723, 0.08749, 0.09687, 0.09462, 0.09934, 0.09345, 0.07557, 0.1061, 0.1099, 0.09138, 0.1089, 0.1036, 0.08515, 0.09752, 0.1066, 0.1054, 0.08388, 0.08928, 0.1007, 0.07903, 0.1022, 0.08759, 0.09059, 0.1255, 0.09929, 0.1102, 0.08713, 0.08045, 0.08743, 0.09087, 0.1016, 0.1012, 0.1075, 0.09751, 0.115, 0.09495, 0.09198, 0.09579, 0.09057, 0.09037, 0.08511, 0.09688, 0.1049, 0.08139, 0.06995, 0.07969, 0.09373, 0.1076, 0.09516, 0.07436, 0.1194, 0.09405, 0.07941, 0.1024, 0.1236, 0.08108, 0.07005, 0.09309, 0.09172, 0.103, 0.08757, 0.07355, 0.09587, 0.09087, 0.1033, 0.07376, 0.09783, 0.08451, 0.1066, 0.08817, 0.08684, 0.1634, 0.09425, 0.07351, 0.08123, 0.09566, 0.08872, 0.0997, 0.09524, 0.08792, 0.08671, 0.08814, 0.09379, 0.08473, 0.08142, 0.07837, 0.1134, 0.1013, 0.08875, 0.07896, 0.1006, 0.0988, 0.09996, 0.06935, 0.06883, 0.08582, 0.07683, 0.08946, 0.09594, 0.08284, 0.1078, 0.1044, 0.08437, 0.09831, 0.1089, 0.09384, 0.09754, 0.07813, 0.08791, 0.07926, 0.07335, 0.08677, 0.11, 0.09686, 0.08311, 0.08117, 0.1371, 0.07793, 0.1046, 0.05263, 0.1045, 0.0808, 0.09699, 0.1031, 0.08054, 0.06828, 0.07734, 0.0904, 0.1054, 0.08192, 0.1051, 0.09968, 0.08464, 0.08386, 0.09667, 0.08668, 0.1003, 0.07963, 0.1075, 0.08477, 0.09906, 0.07026, 0.08682, 0.0802, 0.1096, 0.115, 0.08458, 0.1077, 0.09003, 0.08223, 0.08511, 0.1225, 0.07984, 0.08654, 0.09245, 0.1009, 0.09179, 0.107, 0.06251, 0.09882, 0.09879, 0.09916, 0.09267, 0.09779, 0.07215, 0.09855, 0.0903, 0.07741, 0.1088, 0.07474, 0.09136, 0.07721, 0.0995, 0.08858, 0.1237, 0.07991, 0.09246, 0.08013, 0.1158, 0.1059, 0.1072, 0.1158, 0.08472, 0.115, 0.08481, 0.09462]}],\n",
              "                        {\"template\": {\"data\": {\"bar\": [{\"error_x\": {\"color\": \"#2a3f5f\"}, \"error_y\": {\"color\": \"#2a3f5f\"}, \"marker\": {\"line\": {\"color\": \"#E5ECF6\", \"width\": 0.5}}, \"type\": \"bar\"}], \"barpolar\": [{\"marker\": {\"line\": {\"color\": \"#E5ECF6\", \"width\": 0.5}}, \"type\": \"barpolar\"}], \"carpet\": [{\"aaxis\": {\"endlinecolor\": \"#2a3f5f\", \"gridcolor\": \"white\", \"linecolor\": \"white\", \"minorgridcolor\": \"white\", \"startlinecolor\": \"#2a3f5f\"}, \"baxis\": {\"endlinecolor\": \"#2a3f5f\", \"gridcolor\": \"white\", \"linecolor\": \"white\", \"minorgridcolor\": \"white\", \"startlinecolor\": \"#2a3f5f\"}, \"type\": \"carpet\"}], \"choropleth\": [{\"colorbar\": {\"outlinewidth\": 0, \"ticks\": \"\"}, \"type\": \"choropleth\"}], \"contour\": [{\"colorbar\": {\"outlinewidth\": 0, \"ticks\": \"\"}, \"colorscale\": [[0.0, \"#0d0887\"], [0.1111111111111111, \"#46039f\"], [0.2222222222222222, \"#7201a8\"], [0.3333333333333333, \"#9c179e\"], [0.4444444444444444, \"#bd3786\"], [0.5555555555555556, \"#d8576b\"], [0.6666666666666666, \"#ed7953\"], [0.7777777777777778, \"#fb9f3a\"], [0.8888888888888888, \"#fdca26\"], [1.0, \"#f0f921\"]], \"type\": \"contour\"}], \"contourcarpet\": [{\"colorbar\": {\"outlinewidth\": 0, \"ticks\": \"\"}, \"type\": \"contourcarpet\"}], \"heatmap\": [{\"colorbar\": {\"outlinewidth\": 0, \"ticks\": \"\"}, \"colorscale\": [[0.0, \"#0d0887\"], [0.1111111111111111, \"#46039f\"], [0.2222222222222222, \"#7201a8\"], [0.3333333333333333, \"#9c179e\"], [0.4444444444444444, \"#bd3786\"], [0.5555555555555556, \"#d8576b\"], [0.6666666666666666, \"#ed7953\"], [0.7777777777777778, \"#fb9f3a\"], [0.8888888888888888, \"#fdca26\"], [1.0, \"#f0f921\"]], \"type\": \"heatmap\"}], \"heatmapgl\": [{\"colorbar\": {\"outlinewidth\": 0, \"ticks\": \"\"}, \"colorscale\": [[0.0, \"#0d0887\"], [0.1111111111111111, \"#46039f\"], [0.2222222222222222, \"#7201a8\"], [0.3333333333333333, \"#9c179e\"], [0.4444444444444444, \"#bd3786\"], [0.5555555555555556, \"#d8576b\"], [0.6666666666666666, \"#ed7953\"], [0.7777777777777778, \"#fb9f3a\"], [0.8888888888888888, \"#fdca26\"], [1.0, \"#f0f921\"]], \"type\": \"heatmapgl\"}], \"histogram\": [{\"marker\": {\"colorbar\": {\"outlinewidth\": 0, \"ticks\": \"\"}}, \"type\": \"histogram\"}], \"histogram2d\": [{\"colorbar\": {\"outlinewidth\": 0, \"ticks\": \"\"}, \"colorscale\": [[0.0, \"#0d0887\"], [0.1111111111111111, \"#46039f\"], [0.2222222222222222, \"#7201a8\"], [0.3333333333333333, \"#9c179e\"], [0.4444444444444444, \"#bd3786\"], [0.5555555555555556, \"#d8576b\"], [0.6666666666666666, \"#ed7953\"], [0.7777777777777778, \"#fb9f3a\"], [0.8888888888888888, \"#fdca26\"], [1.0, \"#f0f921\"]], \"type\": \"histogram2d\"}], \"histogram2dcontour\": [{\"colorbar\": {\"outlinewidth\": 0, \"ticks\": \"\"}, \"colorscale\": [[0.0, \"#0d0887\"], [0.1111111111111111, \"#46039f\"], [0.2222222222222222, \"#7201a8\"], [0.3333333333333333, \"#9c179e\"], [0.4444444444444444, \"#bd3786\"], [0.5555555555555556, \"#d8576b\"], [0.6666666666666666, \"#ed7953\"], [0.7777777777777778, \"#fb9f3a\"], [0.8888888888888888, \"#fdca26\"], [1.0, \"#f0f921\"]], \"type\": \"histogram2dcontour\"}], \"mesh3d\": [{\"colorbar\": {\"outlinewidth\": 0, \"ticks\": \"\"}, \"type\": \"mesh3d\"}], \"parcoords\": [{\"line\": {\"colorbar\": {\"outlinewidth\": 0, \"ticks\": \"\"}}, \"type\": \"parcoords\"}], \"pie\": [{\"automargin\": true, \"type\": \"pie\"}], \"scatter\": [{\"marker\": {\"colorbar\": {\"outlinewidth\": 0, \"ticks\": \"\"}}, \"type\": \"scatter\"}], \"scatter3d\": [{\"line\": {\"colorbar\": {\"outlinewidth\": 0, \"ticks\": \"\"}}, \"marker\": {\"colorbar\": {\"outlinewidth\": 0, \"ticks\": \"\"}}, \"type\": \"scatter3d\"}], \"scattercarpet\": [{\"marker\": {\"colorbar\": {\"outlinewidth\": 0, \"ticks\": \"\"}}, \"type\": \"scattercarpet\"}], \"scattergeo\": [{\"marker\": {\"colorbar\": {\"outlinewidth\": 0, \"ticks\": \"\"}}, \"type\": \"scattergeo\"}], \"scattergl\": [{\"marker\": {\"colorbar\": {\"outlinewidth\": 0, \"ticks\": \"\"}}, \"type\": \"scattergl\"}], \"scattermapbox\": [{\"marker\": {\"colorbar\": {\"outlinewidth\": 0, \"ticks\": \"\"}}, \"type\": \"scattermapbox\"}], \"scatterpolar\": [{\"marker\": {\"colorbar\": {\"outlinewidth\": 0, \"ticks\": \"\"}}, \"type\": \"scatterpolar\"}], \"scatterpolargl\": [{\"marker\": {\"colorbar\": {\"outlinewidth\": 0, \"ticks\": \"\"}}, \"type\": \"scatterpolargl\"}], \"scatterternary\": [{\"marker\": {\"colorbar\": {\"outlinewidth\": 0, \"ticks\": \"\"}}, \"type\": \"scatterternary\"}], \"surface\": [{\"colorbar\": {\"outlinewidth\": 0, \"ticks\": \"\"}, \"colorscale\": [[0.0, \"#0d0887\"], [0.1111111111111111, \"#46039f\"], [0.2222222222222222, \"#7201a8\"], [0.3333333333333333, \"#9c179e\"], [0.4444444444444444, \"#bd3786\"], [0.5555555555555556, \"#d8576b\"], [0.6666666666666666, \"#ed7953\"], [0.7777777777777778, \"#fb9f3a\"], [0.8888888888888888, \"#fdca26\"], [1.0, \"#f0f921\"]], \"type\": \"surface\"}], \"table\": [{\"cells\": {\"fill\": {\"color\": \"#EBF0F8\"}, \"line\": {\"color\": \"white\"}}, \"header\": {\"fill\": {\"color\": \"#C8D4E3\"}, \"line\": {\"color\": \"white\"}}, \"type\": \"table\"}]}, \"layout\": {\"annotationdefaults\": {\"arrowcolor\": \"#2a3f5f\", \"arrowhead\": 0, \"arrowwidth\": 1}, \"coloraxis\": {\"colorbar\": {\"outlinewidth\": 0, \"ticks\": \"\"}}, \"colorscale\": {\"diverging\": [[0, \"#8e0152\"], [0.1, \"#c51b7d\"], [0.2, \"#de77ae\"], [0.3, \"#f1b6da\"], [0.4, \"#fde0ef\"], [0.5, \"#f7f7f7\"], [0.6, \"#e6f5d0\"], [0.7, \"#b8e186\"], [0.8, \"#7fbc41\"], [0.9, \"#4d9221\"], [1, \"#276419\"]], \"sequential\": [[0.0, \"#0d0887\"], [0.1111111111111111, \"#46039f\"], [0.2222222222222222, \"#7201a8\"], [0.3333333333333333, \"#9c179e\"], [0.4444444444444444, \"#bd3786\"], [0.5555555555555556, \"#d8576b\"], [0.6666666666666666, \"#ed7953\"], [0.7777777777777778, \"#fb9f3a\"], [0.8888888888888888, \"#fdca26\"], [1.0, \"#f0f921\"]], \"sequentialminus\": [[0.0, \"#0d0887\"], [0.1111111111111111, \"#46039f\"], [0.2222222222222222, \"#7201a8\"], [0.3333333333333333, \"#9c179e\"], [0.4444444444444444, \"#bd3786\"], [0.5555555555555556, \"#d8576b\"], [0.6666666666666666, \"#ed7953\"], [0.7777777777777778, \"#fb9f3a\"], [0.8888888888888888, \"#fdca26\"], [1.0, \"#f0f921\"]]}, \"colorway\": [\"#636efa\", \"#EF553B\", \"#00cc96\", \"#ab63fa\", \"#FFA15A\", \"#19d3f3\", \"#FF6692\", \"#B6E880\", \"#FF97FF\", \"#FECB52\"], \"font\": {\"color\": \"#2a3f5f\"}, \"geo\": {\"bgcolor\": \"white\", \"lakecolor\": \"white\", \"landcolor\": \"#E5ECF6\", \"showlakes\": true, \"showland\": true, \"subunitcolor\": \"white\"}, \"hoverlabel\": {\"align\": \"left\"}, \"hovermode\": \"closest\", \"mapbox\": {\"style\": \"light\"}, \"paper_bgcolor\": \"white\", \"plot_bgcolor\": \"#E5ECF6\", \"polar\": {\"angularaxis\": {\"gridcolor\": \"white\", \"linecolor\": \"white\", \"ticks\": \"\"}, \"bgcolor\": \"#E5ECF6\", \"radialaxis\": {\"gridcolor\": \"white\", \"linecolor\": \"white\", \"ticks\": \"\"}}, \"scene\": {\"xaxis\": {\"backgroundcolor\": \"#E5ECF6\", \"gridcolor\": \"white\", \"gridwidth\": 2, \"linecolor\": \"white\", \"showbackground\": true, \"ticks\": \"\", \"zerolinecolor\": \"white\"}, \"yaxis\": {\"backgroundcolor\": \"#E5ECF6\", \"gridcolor\": \"white\", \"gridwidth\": 2, \"linecolor\": \"white\", \"showbackground\": true, \"ticks\": \"\", \"zerolinecolor\": \"white\"}, \"zaxis\": {\"backgroundcolor\": \"#E5ECF6\", \"gridcolor\": \"white\", \"gridwidth\": 2, \"linecolor\": \"white\", \"showbackground\": true, \"ticks\": \"\", \"zerolinecolor\": \"white\"}}, \"shapedefaults\": {\"line\": {\"color\": \"#2a3f5f\"}}, \"ternary\": {\"aaxis\": {\"gridcolor\": \"white\", \"linecolor\": \"white\", \"ticks\": \"\"}, \"baxis\": {\"gridcolor\": \"white\", \"linecolor\": \"white\", \"ticks\": \"\"}, \"bgcolor\": \"#E5ECF6\", \"caxis\": {\"gridcolor\": \"white\", \"linecolor\": \"white\", \"ticks\": \"\"}}, \"title\": {\"x\": 0.05}, \"xaxis\": {\"automargin\": true, \"gridcolor\": \"white\", \"linecolor\": \"white\", \"ticks\": \"\", \"title\": {\"standoff\": 15}, \"zerolinecolor\": \"white\", \"zerolinewidth\": 2}, \"yaxis\": {\"automargin\": true, \"gridcolor\": \"white\", \"linecolor\": \"white\", \"ticks\": \"\", \"title\": {\"standoff\": 15}, \"zerolinecolor\": \"white\", \"zerolinewidth\": 2}}}},\n",
              "                        {\"responsive\": true}\n",
              "                    ).then(function(){\n",
              "                            \n",
              "var gd = document.getElementById('a80047cf-e815-48a0-8b39-02fe9dd71f9d');\n",
              "var x = new MutationObserver(function (mutations, observer) {{\n",
              "        var display = window.getComputedStyle(gd).display;\n",
              "        if (!display || display === 'none') {{\n",
              "            console.log([gd, 'removed!']);\n",
              "            Plotly.purge(gd);\n",
              "            observer.disconnect();\n",
              "        }}\n",
              "}});\n",
              "\n",
              "// Listen for the removal of the full notebook cells\n",
              "var notebookContainer = gd.closest('#notebook-container');\n",
              "if (notebookContainer) {{\n",
              "    x.observe(notebookContainer, {childList: true});\n",
              "}}\n",
              "\n",
              "// Listen for the clearing of the current output cell\n",
              "var outputEl = gd.closest('.output');\n",
              "if (outputEl) {{\n",
              "    x.observe(outputEl, {childList: true});\n",
              "}}\n",
              "\n",
              "                        })\n",
              "                };\n",
              "                \n",
              "            </script>\n",
              "        </div>\n",
              "</body>\n",
              "</html>"
            ]
          },
          "metadata": {
            "tags": []
          }
        }
      ]
    },
    {
      "cell_type": "code",
      "metadata": {
        "id": "U5JD9JODZue1"
      },
      "source": [
        ""
      ],
      "execution_count": null,
      "outputs": []
    }
  ]
}